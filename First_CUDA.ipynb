{
 "cells": [
  {
   "cell_type": "code",
   "execution_count": 12,
   "id": "ef669eda-44a8-4a1e-aa88-5bccb5b5b628",
   "metadata": {},
   "outputs": [
    {
     "name": "stdout",
     "output_type": "stream",
     "text": [
      "Overwriting add.cpp\n"
     ]
    }
   ],
   "source": [
    "%%writefile add.cpp\n",
    "\n",
    "#include <iostream>\n",
    "#include <math.h>\n",
    "using namespace std;\n",
    "\n",
    "void add(int n, float *x, float *y)\n",
    "{\n",
    "    for (int i=0; i<n; i++)\n",
    "        y[i] = x[i] + y[i];\n",
    "}\n",
    "\n",
    "int main(void)\n",
    "{\n",
    "    int N = 1<<20;  // one milliion\n",
    "    float *x = new float[N];\n",
    "    float *y = new float[N];\n",
    "    for (int i=0; i<N; i++) {\n",
    "        x[i] = 1.0f;\n",
    "        y[i] = 2.0f;\n",
    "    }\n",
    "    // run on CPU\n",
    "    add(N, x, y);\n",
    "\n",
    "    float maxError = 0.0f;\n",
    "    for (int i=0; i<N; i++)\n",
    "        maxError = fmax(maxError, fabs(y[i] - 3.0f));\n",
    "    cout << \"Max Error : \" << maxError << endl;\n",
    "\n",
    "    delete [] x;\n",
    "    delete [] y;\n",
    "    return 0;\n",
    "}"
   ]
  },
  {
   "cell_type": "code",
   "execution_count": 13,
   "id": "f9157053-14ee-4b2c-894c-d18a50424a83",
   "metadata": {},
   "outputs": [],
   "source": [
    "%%sh\n",
    "g++ add.cpp -o add"
   ]
  },
  {
   "cell_type": "code",
   "execution_count": 14,
   "id": "40fa8106-36c8-46da-b02b-7555d8e02782",
   "metadata": {},
   "outputs": [
    {
     "name": "stdout",
     "output_type": "stream",
     "text": [
      "Max Error : 0\n"
     ]
    }
   ],
   "source": [
    "%%sh\n",
    "./add"
   ]
  },
  {
   "cell_type": "markdown",
   "id": "42c48eb6-60aa-40ba-9897-84c83d5a8339",
   "metadata": {},
   "source": [
    "## Memory Allocation in CUDA\n",
    "First allocate memory accessible by all CPUs and GPUs provided by [Unified Memory](https://developer.nvidia.com/blog/unified-memory-in-cuda-6/) in CUDA.\n"
   ]
  },
  {
   "cell_type": "code",
   "execution_count": 33,
   "id": "eaa6af25-2ceb-4c87-b7a5-e727557d3cfd",
   "metadata": {},
   "outputs": [
    {
     "name": "stdout",
     "output_type": "stream",
     "text": [
      "Overwriting add.cu\n"
     ]
    }
   ],
   "source": [
    "%%writefile add.cu\n",
    "\n",
    "#include <iostream>\n",
    "#include <math.h>\n",
    "using namespace std;\n",
    "\n",
    "// Kernel to add arrays elements\n",
    "__global__\n",
    "void add(int n, float *x, float *y)\n",
    "{\n",
    "    for (int i=0; i<n; i++)\n",
    "        y[i] = x[i] + y[i];\n",
    "}\n",
    "\n",
    "__global__\n",
    "void add_2(int n, float *x, float *y)\n",
    "{\n",
    "  int index = threadIdx.x;\n",
    "  int stride = blockDim.x;\n",
    "  for (int i = index; i < n; i += stride)\n",
    "      y[i] = x[i] + y[i];\n",
    "}\n",
    "\n",
    "__global__\n",
    "void add_3(int n, float *x, float *y)\n",
    "{\n",
    "  int index = blockIdx.x * blockDim.x + threadIdx.x;\n",
    "  int stride = blockDim.x * gridDim.x;\n",
    "  for (int i = index; i < n; i += stride)\n",
    "        y[i] = x[i] + y[i];\n",
    "}\n",
    "\n",
    "int main(void)\n",
    "{\n",
    "    int N = 1<<20;\n",
    "    float *x , *y;\n",
    "\n",
    "    // allocate Unified Memory accessible from GPU or CPU\n",
    "    cudaMallocManaged(&x, N*sizeof(float));\n",
    "    cudaMallocManaged(&y, N*sizeof(float));\n",
    "\n",
    "    // initialize x and y on the host (CPU)\n",
    "    for (int i=0; i<N; i++) {\n",
    "        x[i] = 1.0f;\n",
    "        y[i] = 2.0f;\n",
    "    }\n",
    "    // run kernel function on 1M elements on the GPU (note: triple braces)\n",
    "    // add<<<1,1>>>(N, x, y);\n",
    "\n",
    "    // Run kernel on 1M elements on the GPU\n",
    "    int blockSize = 256;\n",
    "    int numBlocks = (N + blockSize - 1) / blockSize;\n",
    "    add_3<<<numBlocks, blockSize>>>(N, x, y);\n",
    "    \n",
    "    // Wait for GPU to finish before accessing on host\n",
    "    cudaDeviceSynchronize();\n",
    "\n",
    "    float maxError = 0.0f;\n",
    "    for (int i=0; i<N; i++)\n",
    "        maxError = fmax(maxError, fabs(y[i] - 3.0f));\n",
    "    cout << \"Max Error : \" << maxError << endl;\n",
    "\n",
    "    cudaFree(x);\n",
    "    cudaFree(y);\n",
    "    return 0;\n",
    "}\n"
   ]
  },
  {
   "cell_type": "code",
   "execution_count": 34,
   "id": "1e6a6c6a-8d01-4833-ace4-5ca59ac3c3ee",
   "metadata": {},
   "outputs": [
    {
     "name": "stdout",
     "output_type": "stream",
     "text": [
      "Max Error : 0\n"
     ]
    }
   ],
   "source": [
    "%%sh\n",
    "nvcc add.cu -o add_cuda\n",
    "./add_cuda"
   ]
  },
  {
   "cell_type": "markdown",
   "id": "e1f6fb3f-99dc-45d7-a2f0-2ff287e72195",
   "metadata": {},
   "source": [
    "Profile the code to check how long the kernel takes for execution"
   ]
  },
  {
   "cell_type": "code",
   "execution_count": 36,
   "id": "bea92e75-501b-4c9e-82bc-e60fc296c142",
   "metadata": {},
   "outputs": [
    {
     "name": "stderr",
     "output_type": "stream",
     "text": [
      "WARNING: add_cuda and any of its children processes will be profiled.\n",
      "\n"
     ]
    },
    {
     "name": "stdout",
     "output_type": "stream",
     "text": [
      "Max Error : 0\n",
      "Generating '/tmp/nsys-report-61ba.qdstrm'\n",
      "[1/7] [========================100%] report4.nsys-rep\n",
      "[2/7] [========================100%] report4.sqlite\n"
     ]
    },
    {
     "name": "stderr",
     "output_type": "stream",
     "text": [
      "SKIPPED: /home/skwok/codelab2/report4.sqlite does not contain NV Tools Extension (NVTX) data.\n",
      "SKIPPED: /home/skwok/codelab2/report4.sqlite does not contain CUDA kernel data.\n",
      "SKIPPED: /home/skwok/codelab2/report4.sqlite does not contain GPU memory data.\n",
      "SKIPPED: /home/skwok/codelab2/report4.sqlite does not contain GPU memory data.\n"
     ]
    },
    {
     "name": "stdout",
     "output_type": "stream",
     "text": [
      "[3/7] Executing 'nvtx_sum' stats report\n",
      "[4/7] Executing 'cuda_api_sum' stats report\n",
      "\n",
      " Time (%)  Total Time (ns)  Num Calls   Avg (ns)    Med (ns)   Min (ns)  Max (ns)   StdDev (ns)           Name         \n",
      " --------  ---------------  ---------  ----------  ----------  --------  ---------  -----------  ----------------------\n",
      "     97.9        127792213          2  63896106.5  63896106.5   2141254  125650959   87334549.9  cudaMallocManaged     \n",
      "      1.2          1606623          2    803311.5    803311.5    751190     855433      73710.9  cudaFree              \n",
      "      0.6           772337          1    772337.0    772337.0    772337     772337          0.0  cudaDeviceSynchronize \n",
      "      0.3           421656          1    421656.0    421656.0    421656     421656          0.0  cudaLaunchKernel      \n",
      "      0.0             1057          1      1057.0      1057.0      1057       1057          0.0  cuModuleGetLoadingMode\n",
      "\n",
      "[5/7] Executing 'cuda_gpu_kern_sum' stats report\n",
      "[6/7] Executing 'cuda_gpu_mem_time_sum' stats report\n",
      "[7/7] Executing 'cuda_gpu_mem_size_sum' stats report\n",
      "Generated:\n",
      "    /home/skwok/codelab2/report4.nsys-rep\n",
      "    /home/skwok/codelab2/report4.sqlite\n"
     ]
    }
   ],
   "source": [
    "%%sh\n",
    "nsys nvprof ./add_cuda"
   ]
  },
  {
   "cell_type": "code",
   "execution_count": null,
   "id": "dbdfe9a3-f146-48ef-952f-706b6698e3a8",
   "metadata": {},
   "outputs": [],
   "source": []
  },
  {
   "cell_type": "code",
   "execution_count": null,
   "id": "280d0ae6-73e3-4b7a-95de-0a7e8d43f671",
   "metadata": {},
   "outputs": [],
   "source": []
  }
 ],
 "metadata": {
  "kernelspec": {
   "display_name": "Python 3 (ipykernel)",
   "language": "python",
   "name": "python3"
  },
  "language_info": {
   "codemirror_mode": {
    "name": "ipython",
    "version": 3
   },
   "file_extension": ".py",
   "mimetype": "text/x-python",
   "name": "python",
   "nbconvert_exporter": "python",
   "pygments_lexer": "ipython3",
   "version": "3.8.10"
  }
 },
 "nbformat": 4,
 "nbformat_minor": 5
}
